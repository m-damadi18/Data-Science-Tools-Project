{
 "cells": [
  {
   "cell_type": "markdown",
   "id": "14192d72-6f1f-40e0-9469-433e1915bbaa",
   "metadata": {},
   "source": [
    "<h1>Data Science Tools and Ecosystem<h1>"
   ]
  },
  {
   "cell_type": "markdown",
   "id": "84068a04-03dc-49e4-a7b6-9de4dfcea0db",
   "metadata": {},
   "source": [
    "In this notebook, Data Science Tools and Ecosystem are summarized"
   ]
  },
  {
   "cell_type": "markdown",
   "id": "28967192-07a1-43f4-8ff6-364bef6c5187",
   "metadata": {},
   "source": [
    "**Objectives:**\n",
    "- List popular languages for Data Science\n",
    "- List of commonly used libraries used by Data Scientists\n",
    "- List of Data Science Tools\n",
    "- Examples of aithmetic expressions in Python"
   ]
  },
  {
   "cell_type": "markdown",
   "id": "10f37144-1300-4610-a491-6bad19235884",
   "metadata": {},
   "source": [
    "Some of the popular languages that Data Scientists use are:\n",
    "1) Python\n",
    "2) R\n",
    "3) SQL"
   ]
  },
  {
   "cell_type": "markdown",
   "id": "b74dfedd-88f4-4b15-9111-6435a09117db",
   "metadata": {},
   "source": [
    "Some of the commonly used libraries used by Data Scientists include:\n",
    "1) NumPy\n",
    "2) Pandas\n",
    "3) Matplotlib"
   ]
  },
  {
   "cell_type": "markdown",
   "id": "64af9140-37f1-45c2-9a79-09b7e96f0fd8",
   "metadata": {},
   "source": [
    "|Data Science Tools|\n",
    "|----|\n",
    "|Jupyter Notebook|\n",
    "|Anaconda|\n",
    "|RStudio|"
   ]
  },
  {
   "cell_type": "markdown",
   "id": "f8e5f639-f22c-4338-802d-778661e3b214",
   "metadata": {},
   "source": [
    "<h3>Below are a few examples of evaluating arithmetic expressions in Python<h3>"
   ]
  },
  {
   "cell_type": "code",
   "execution_count": 1,
   "id": "0181d9cf-c104-48d4-9814-ad401e4cc932",
   "metadata": {
    "tags": []
   },
   "outputs": [
    {
     "data": {
      "text/plain": [
       "17"
      ]
     },
     "execution_count": 1,
     "metadata": {},
     "output_type": "execute_result"
    }
   ],
   "source": [
    "#This a simple arithmetic expression to mutiply then add integers\n",
    "(3*4)+5"
   ]
  },
  {
   "cell_type": "code",
   "execution_count": 2,
   "id": "8f18ae1c-29c7-44eb-88a1-88c88220fa80",
   "metadata": {},
   "outputs": [
    {
     "data": {
      "text/plain": [
       "3.3333333333333335"
      ]
     },
     "execution_count": 2,
     "metadata": {},
     "output_type": "execute_result"
    }
   ],
   "source": [
    "#This will convert 200 minutes to hours by diving by 60\n",
    "\n",
    "200/60"
   ]
  },
  {
   "cell_type": "markdown",
   "id": "af1bec93-a5b4-45bd-a7e9-a72866b8ad96",
   "metadata": {},
   "source": [
    "<h2>Author<h2>\n",
    "\n",
    "Mohammed Khalid Aldamadi"
   ]
  },
  {
   "cell_type": "code",
   "execution_count": null,
   "id": "3574d60c-9adf-4a03-b12b-4940f99e319f",
   "metadata": {},
   "outputs": [],
   "source": []
  }
 ],
 "metadata": {
  "kernelspec": {
   "display_name": "Python",
   "language": "python",
   "name": "conda-env-python-py"
  },
  "language_info": {
   "codemirror_mode": {
    "name": "ipython",
    "version": 3
   },
   "file_extension": ".py",
   "mimetype": "text/x-python",
   "name": "python",
   "nbconvert_exporter": "python",
   "pygments_lexer": "ipython3",
   "version": "3.7.12"
  }
 },
 "nbformat": 4,
 "nbformat_minor": 5
}
